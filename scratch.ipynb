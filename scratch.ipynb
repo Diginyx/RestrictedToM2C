{
 "cells": [
  {
   "cell_type": "code",
   "execution_count": 1,
   "id": "initial_id",
   "metadata": {
    "collapsed": true,
    "ExecuteTime": {
     "end_time": "2024-04-11T23:20:30.239409Z",
     "start_time": "2024-04-11T23:20:30.027247Z"
    }
   },
   "outputs": [],
   "source": [
    "from multiagent.scenarios.CN import Scenario"
   ]
  },
  {
   "cell_type": "code",
   "outputs": [],
   "source": [
    "s = Scenario()"
   ],
   "metadata": {
    "collapsed": false,
    "ExecuteTime": {
     "end_time": "2024-04-11T23:20:55.984549Z",
     "start_time": "2024-04-11T23:20:55.982765Z"
    }
   },
   "id": "db11163c3da6f667",
   "execution_count": 3
  },
  {
   "cell_type": "code",
   "outputs": [],
   "source": [
    "world = s.make_world(3, 3)"
   ],
   "metadata": {
    "collapsed": false,
    "ExecuteTime": {
     "end_time": "2024-04-11T23:23:28.281171Z",
     "start_time": "2024-04-11T23:23:28.278949Z"
    }
   },
   "id": "d57c2f21225f8311",
   "execution_count": 8
  },
  {
   "cell_type": "code",
   "outputs": [
    {
     "data": {
      "text/plain": "[<multiagent.core.Agent at 0x7fc4f01c4a50>,\n <multiagent.core.Agent at 0x7fc4cc030a50>,\n <multiagent.core.Agent at 0x7fc4d8345790>]"
     },
     "execution_count": 9,
     "metadata": {},
     "output_type": "execute_result"
    }
   ],
   "source": [
    "world.agents"
   ],
   "metadata": {
    "collapsed": false,
    "ExecuteTime": {
     "end_time": "2024-04-11T23:23:28.566530Z",
     "start_time": "2024-04-11T23:23:28.563649Z"
    }
   },
   "id": "cf36e901898fb6f1",
   "execution_count": 9
  },
  {
   "cell_type": "code",
   "outputs": [
    {
     "data": {
      "text/plain": "array([ 0.        ,  0.        ,  0.09866701,  0.3502174 , -0.28550688,\n        0.38702418, -0.37746058,  0.2812615 ,  0.70922154, -0.97154916,\n       -0.97886267, -0.75591335, -0.34270189, -1.049776  ])"
     },
     "execution_count": 13,
     "metadata": {},
     "output_type": "execute_result"
    }
   ],
   "source": [
    "s.observation(world.agents[0], world)"
   ],
   "metadata": {
    "collapsed": false,
    "ExecuteTime": {
     "end_time": "2024-04-11T23:24:44.937808Z",
     "start_time": "2024-04-11T23:24:44.935053Z"
    }
   },
   "id": "aa245fc6df9aa5c2",
   "execution_count": 13
  },
  {
   "cell_type": "code",
   "outputs": [
    {
     "data": {
      "text/plain": "(-3.506093785386094, 0, 3.506093785386094, 0)"
     },
     "execution_count": 14,
     "metadata": {},
     "output_type": "execute_result"
    }
   ],
   "source": [
    "s.benchmark_data(world.agents[0], world)"
   ],
   "metadata": {
    "collapsed": false,
    "ExecuteTime": {
     "end_time": "2024-04-11T23:25:16.354560Z",
     "start_time": "2024-04-11T23:25:16.351912Z"
    }
   },
   "id": "65abb87da48a1ce1",
   "execution_count": 14
  },
  {
   "cell_type": "code",
   "outputs": [],
   "source": [],
   "metadata": {
    "collapsed": false
   },
   "id": "85bbe48f440c3158"
  }
 ],
 "metadata": {
  "kernelspec": {
   "display_name": "Python 3",
   "language": "python",
   "name": "python3"
  },
  "language_info": {
   "codemirror_mode": {
    "name": "ipython",
    "version": 2
   },
   "file_extension": ".py",
   "mimetype": "text/x-python",
   "name": "python",
   "nbconvert_exporter": "python",
   "pygments_lexer": "ipython2",
   "version": "2.7.6"
  }
 },
 "nbformat": 4,
 "nbformat_minor": 5
}
